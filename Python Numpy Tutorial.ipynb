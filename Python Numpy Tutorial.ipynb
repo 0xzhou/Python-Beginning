{
 "cells": [
  {
   "cell_type": "markdown",
   "metadata": {},
   "source": [
    "使用递归的原理，从数列从挑出一个元素，成为“基准”(pivot),遍历数列，比基准小的放左边，比基准大的放右边，想过放中间。再将左边数列快速排序，右边数列快速排序。递归到数列长度为1。"
   ]
  },
  {
   "cell_type": "code",
   "execution_count": 9,
   "metadata": {},
   "outputs": [
    {
     "name": "stdout",
     "output_type": "stream",
     "text": [
      "[1, 1, 2, 3, 6, 8, 10]\n"
     ]
    }
   ],
   "source": [
    "def quicksort(arr):\n",
    "    if len(arr)<=1:\n",
    "        return arr\n",
    "    pivot=arr[len(arr)//2]\n",
    "    #print(len(arr)//2)\n",
    "    left=[x for x in arr if x<pivot]\n",
    "    middle=[x for x in arr if x==pivot]\n",
    "    right=[x for x in arr if x>pivot]\n",
    "    return quicksort(left)+middle+quicksort(right)\n",
    "\n",
    "print(quicksort([3,6,8,10,1,2,1]))"
   ]
  },
  {
   "cell_type": "markdown",
   "metadata": {},
   "source": [
    "Basic data types"
   ]
  },
  {
   "cell_type": "code",
   "execution_count": 11,
   "metadata": {},
   "outputs": [
    {
     "name": "stdout",
     "output_type": "stream",
     "text": [
      "<class 'int'>\n",
      "3\n",
      "<class 'float'>\n",
      "2.5\n"
     ]
    }
   ],
   "source": [
    "### Numbers\n",
    "x=3\n",
    "print(type(x))\n",
    "print(x)\n",
    "y=2.5\n",
    "print(type(y))\n",
    "print(y)"
   ]
  },
  {
   "cell_type": "code",
   "execution_count": 13,
   "metadata": {},
   "outputs": [
    {
     "name": "stdout",
     "output_type": "stream",
     "text": [
      "<class 'bool'>\n",
      "False\n",
      "True\n",
      "False\n",
      "True\n"
     ]
    }
   ],
   "source": [
    "### Booleans\n",
    "t=True\n",
    "d=False\n",
    "print(type(t))\n",
    "print(t and d)\n",
    "print(t or d)\n",
    "print(not t)\n",
    "print(t!=d)"
   ]
  },
  {
   "cell_type": "code",
   "execution_count": 16,
   "metadata": {},
   "outputs": [
    {
     "name": "stdout",
     "output_type": "stream",
     "text": [
      "hello\n",
      "5\n",
      "hello world\n",
      "hello world 12\n",
      "world\n"
     ]
    }
   ],
   "source": [
    "### Strings\n",
    "hello='hello'\n",
    "world='world'\n",
    "print(hello)\n",
    "print(len(hello))\n",
    "hw=hello+' '+world # String concatenation\n",
    "print(hw)\n",
    "hw12='%s %s %d' % (hello, world, 12)\n",
    "print(hw12)\n",
    "\n",
    "print('   world'.strip())\n",
    "\n"
   ]
  },
  {
   "cell_type": "markdown",
   "metadata": {},
   "source": [
    "Containers"
   ]
  },
  {
   "cell_type": "code",
   "execution_count": 26,
   "metadata": {},
   "outputs": [
    {
     "name": "stdout",
     "output_type": "stream",
     "text": [
      "[3, 1, 2] 3\n",
      "[3, 1, 2, 'bar']\n",
      "bar\n"
     ]
    }
   ],
   "source": [
    "### Lists\n",
    "xs=[3,1,2]\n",
    "print(xs, xs[0])\n",
    "xs.append('bar')\n",
    "#xs.extend('bar')\n",
    "print(xs)\n",
    "\n",
    "x=xs.pop()# Remove and return the last element of the list\n",
    "print(x)"
   ]
  },
  {
   "cell_type": "code",
   "execution_count": 29,
   "metadata": {},
   "outputs": [
    {
     "name": "stdout",
     "output_type": "stream",
     "text": [
      "[0, 1, 2, 3, 4]\n",
      "[2, 3]\n",
      "[2, 3, 4]\n",
      "[0, 1]\n",
      "[0, 1, 2, 3, 4]\n",
      "[0, 1, 2, 3]\n"
     ]
    }
   ],
   "source": [
    "#Slicing\n",
    "nums=list(range(5))\n",
    "print(nums)\n",
    "print(nums[2:4])\n",
    "print(nums[2:])\n",
    "print(nums[:2])\n",
    "print(nums[:])\n",
    "print(nums[:-1]) # from index 0 to the last "
   ]
  },
  {
   "cell_type": "code",
   "execution_count": 11,
   "metadata": {},
   "outputs": [
    {
     "name": "stdout",
     "output_type": "stream",
     "text": [
      "[0, 1, 4, 9, 16]\n",
      "[0, 1, 4, 9, 16]\n",
      "[0, 4, 16]\n",
      "[1, 2, 3, 4]\n"
     ]
    }
   ],
   "source": [
    "#List comprehensions\n",
    "nums=[0,1,2,3,4]\n",
    "squares=[]\n",
    "for x in nums:\n",
    "    squares.append(x**2)\n",
    "print(squares)\n",
    "\n",
    "#simplers\n",
    "simple_squares=[x**2 for x in nums]\n",
    "print(simple_squares)\n",
    "\n",
    "#add conditions\n",
    "even_squares=[x**2 for x in nums if x % 2 == 0]\n",
    "print(even_squares)\n",
    "\n",
    "# remove elements\n",
    "del(nums[0])\n",
    "print(nums)"
   ]
  },
  {
   "cell_type": "markdown",
   "metadata": {},
   "source": [
    "Dictionaries: A dictionaries stores (key,value) pairs"
   ]
  },
  {
   "cell_type": "code",
   "execution_count": 6,
   "metadata": {},
   "outputs": [
    {
     "name": "stdout",
     "output_type": "stream",
     "text": [
      "cute\n",
      "True\n",
      "wet\n"
     ]
    }
   ],
   "source": [
    "d={'cat':'cute','dog':'furry'}\n",
    "print(d['cat'])\n",
    "print('cat' in d) # check if a dictionary has a given key; print \"True\"\n",
    "d['fish']='wet' # set an entry in a dictionary\n",
    "print(d['fish']) # key acts as index"
   ]
  },
  {
   "cell_type": "code",
   "execution_count": 7,
   "metadata": {},
   "outputs": [
    {
     "name": "stdout",
     "output_type": "stream",
     "text": [
      "N/A\n",
      "wet\n",
      "N/A\n"
     ]
    }
   ],
   "source": [
    "print(d.get('monkey','N/A'))\n",
    "print(d.get('fish','N/A'))\n",
    "del d['fish']\n",
    "print(d.get('fish','N/A'))"
   ]
  },
  {
   "cell_type": "markdown",
   "metadata": {},
   "source": [
    "dictionary.get(keyname, value):\n",
    "@keyname: The keyname of the item you want you return the value from\n",
    "@value: A value to return if the specified key does not exist. Default value None"
   ]
  },
  {
   "cell_type": "code",
   "execution_count": 12,
   "metadata": {},
   "outputs": [
    {
     "name": "stdout",
     "output_type": "stream",
     "text": [
      "A person has 2 legs\n",
      "A cat has 4 legs\n",
      "A spider has 8 legs\n"
     ]
    }
   ],
   "source": [
    "#Loops\n",
    "d={'person':2, 'cat':4,'spider':8}\n",
    "for animal in d:\n",
    "    legs=d[animal] # 赋值，如果想获取词典的值\n",
    "    print('A %s has %d legs' % (animal,legs))"
   ]
  },
  {
   "cell_type": "code",
   "execution_count": 13,
   "metadata": {},
   "outputs": [
    {
     "name": "stdout",
     "output_type": "stream",
     "text": [
      "{0: 0, 2: 4, 4: 16}\n"
     ]
    }
   ],
   "source": [
    "# Dictionary comprehensions:\n",
    "nums=[0,1,2,3,4]\n",
    "even_num_to_square={x: x**2 for x in nums if x%2==0}\n",
    "print(even_num_to_square)"
   ]
  },
  {
   "cell_type": "markdown",
   "metadata": {},
   "source": [
    "Sets: A set is an unordered collection of distinct elements. "
   ]
  },
  {
   "cell_type": "code",
   "execution_count": 14,
   "metadata": {},
   "outputs": [
    {
     "name": "stdout",
     "output_type": "stream",
     "text": [
      "True\n",
      "False\n"
     ]
    }
   ],
   "source": [
    "animals={'cat', 'dog'}\n",
    "print('cat' in animals)\n",
    "print('fish' in animals)"
   ]
  },
  {
   "cell_type": "code",
   "execution_count": null,
   "metadata": {},
   "outputs": [],
   "source": []
  }
 ],
 "metadata": {
  "kernelspec": {
   "display_name": "Python 3",
   "language": "python",
   "name": "python3"
  },
  "language_info": {
   "codemirror_mode": {
    "name": "ipython",
    "version": 3
   },
   "file_extension": ".py",
   "mimetype": "text/x-python",
   "name": "python",
   "nbconvert_exporter": "python",
   "pygments_lexer": "ipython3",
   "version": "3.7.3"
  }
 },
 "nbformat": 4,
 "nbformat_minor": 2
}
