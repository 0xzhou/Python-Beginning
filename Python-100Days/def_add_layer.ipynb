{
  "nbformat": 4,
  "nbformat_minor": 0,
  "metadata": {
    "colab": {
      "name": "def_add_layer.ipynb",
      "version": "0.3.2",
      "provenance": []
    },
    "kernelspec": {
      "name": "python3",
      "display_name": "Python 3"
    }
  },
  "cells": [
    {
      "cell_type": "code",
      "metadata": {
        "id": "CKD0FM3iJ8wB",
        "colab_type": "code",
        "colab": {}
      },
      "source": [
        "import tensorflow as tf\n",
        "import numpy as np\n",
        "\n",
        "def add_layer(inputs, in_size, out_size, activation_function=None):\n",
        "  Weights=tf.Variable(tf.random_normal([in_size,out_size]))\n",
        "  bias=tf.Variable(tf.zeros([1,out_size])+0.1)#bias不为零\n",
        "  Wx_plus_b=tf.matmul(inputs,Weights)+bias\n",
        "  if activation_function is None:\n",
        "    outputs=Wx_plus_b #linear relationship\n",
        "  else:\n",
        "    outputs=activation_function(Wx_plus_b)\n",
        "  return outputs"
      ],
      "execution_count": 0,
      "outputs": []
    },
    {
      "cell_type": "code",
      "metadata": {
        "id": "18iexq_GKdlD",
        "colab_type": "code",
        "outputId": "2c5801c0-c4a1-4ed6-b408-99bca0597105",
        "colab": {
          "base_uri": "https://localhost:8080/",
          "height": 363
        }
      },
      "source": [
        "# import data\n",
        "\n",
        "x_data=np.linspace(-1,1,300,dtype=np.float32)[:,np.newaxis]\n",
        "noise=np.random.normal(0,0.05,x_data.shape).astype(np.float32)\n",
        "y_data=np.square(x_data)-0.5+noise\n",
        "\n",
        "xs=tf.placeholder(tf.float32,[None,1])\n",
        "ys=tf.placeholder(tf.float32,[None,1])\n",
        "# build NN\n",
        "\n",
        "l1=add_layer(xs,1,10,activation_function=tf.nn.relu)\n",
        "prediction=add_layer(l1,10,1,activation_function=None)\n",
        "loss=tf.reduce_mean(tf.reduce_sum(tf.square(ys-prediction),\n",
        "                                 reduction_indices=[1]))\n",
        "train_step=tf.train.GradientDescentOptimizer(0.1).minimize(loss)\n",
        "\n",
        "init=tf.global_variables_initializer()\n",
        "\n",
        "sess=tf.Session()\n",
        "sess.run(init)\n",
        "\n",
        "# train\n",
        "for _ in range(1000):\n",
        "  sess.run(train_step,feed_dict={xs:x_data,ys:y_data})\n",
        "  if _%50==0:\n",
        "    print(sess.run(loss,feed_dict={xs:x_data,ys:y_data}))"
      ],
      "execution_count": 8,
      "outputs": [
        {
          "output_type": "stream",
          "text": [
            "0.22772613\n",
            "0.009132584\n",
            "0.007321345\n",
            "0.006603278\n",
            "0.00623427\n",
            "0.0059821703\n",
            "0.0057907035\n",
            "0.005647369\n",
            "0.005529692\n",
            "0.005430003\n",
            "0.0053405673\n",
            "0.0052480847\n",
            "0.0051585045\n",
            "0.0050718854\n",
            "0.004993617\n",
            "0.0049195704\n",
            "0.004849562\n",
            "0.0047858623\n",
            "0.0047299163\n",
            "0.0046832333\n"
          ],
          "name": "stdout"
        }
      ]
    },
    {
      "cell_type": "code",
      "metadata": {
        "id": "7D90PqELOHrX",
        "colab_type": "code",
        "colab": {}
      },
      "source": [
        ""
      ],
      "execution_count": 0,
      "outputs": []
    }
  ]
}