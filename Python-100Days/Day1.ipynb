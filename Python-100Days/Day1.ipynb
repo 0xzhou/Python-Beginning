{
 "cells": [
  {
   "cell_type": "code",
   "execution_count": 1,
   "metadata": {},
   "outputs": [
    {
     "name": "stdout",
     "output_type": "stream",
     "text": [
      "18+13=31\n"
     ]
    }
   ],
   "source": [
    "# 使用占位符\n",
    "a=18\n",
    "b=13\n",
    "print('%d+%d=%d' % (a,b,a+b))"
   ]
  },
  {
   "cell_type": "code",
   "execution_count": 6,
   "metadata": {},
   "outputs": [
    {
     "name": "stdout",
     "output_type": "stream",
     "text": [
      "B \n",
      " <class 'str'> \n",
      " 66\n"
     ]
    }
   ],
   "source": [
    "c=66\n",
    "d=chr(c) # chr()将整数转换成该编码对应的字符串（一个字符）\n",
    "print(d,'\\n',type(d),'\\n',ord(d)) #将字符串（一个字符）转换成对应的编码\n"
   ]
  },
  {
   "cell_type": "code",
   "execution_count": 14,
   "metadata": {
    "scrolled": true
   },
   "outputs": [
    {
     "name": "stdout",
     "output_type": "stream",
     "text": [
      "77.0华氏度 = 25摄氏度\n"
     ]
    }
   ],
   "source": [
    "\"\"\"\n",
    "#练习1\n",
    "将摄氏温度转化为华氏温度\n",
    "F=1.8C+32\n",
    "\"\"\"\n",
    "c=25\n",
    "f=float(1.8*c+32)\n",
    "print('%.1f华氏度 = %d摄氏度' % (f,c))\n"
   ]
  },
  {
   "cell_type": "code",
   "execution_count": 15,
   "metadata": {},
   "outputs": [
    {
     "name": "stdout",
     "output_type": "stream",
     "text": [
      "请输入年份：2000\n",
      "True\n"
     ]
    }
   ],
   "source": [
    "\"\"\"\n",
    "练习2\n",
    "判断某年是否为闰年\n",
    "\"\"\"\n",
    "year=int(input(\"请输入年份：\"))\n",
    "is_leap_year=(year%4==0 and year%100!=0 or year%400==0 ) # 闰年Def\n",
    "print(is_leap_year)"
   ]
  },
  {
   "cell_type": "code",
   "execution_count": 17,
   "metadata": {},
   "outputs": [
    {
     "name": "stdout",
     "output_type": "stream",
     "text": [
      "1\n"
     ]
    }
   ],
   "source": [
    "# range类型\n",
    "r1=range(100)\n",
    "print(r1[1])"
   ]
  },
  {
   "cell_type": "code",
   "execution_count": null,
   "metadata": {},
   "outputs": [],
   "source": [
    "# 循环结构："
   ]
  },
  {
   "cell_type": "code",
   "execution_count": 19,
   "metadata": {},
   "outputs": [
    {
     "name": "stdout",
     "output_type": "stream",
     "text": [
      "请输入一个正整数：15\n",
      "15不是素数\n"
     ]
    }
   ],
   "source": [
    "\"\"\"\n",
    "#练习1:\n",
    "判断一个数是不是素数\n",
    "\"\"\"\n",
    "from math import sqrt\n",
    "num=int(input(\"请输入一个正整数：\"))\n",
    "end=int(sqrt(num)) # int()总是向下取整，\n",
    "is_prime=True\n",
    "for x in range(2,end+1):# amazing design\n",
    "    if num%x==0:\n",
    "        is_prime=False\n",
    "        break\n",
    "if is_prime and num!=1:\n",
    "    print(\"%d是素数\" % num)\n",
    "else:\n",
    "    print(\"%d不是素数\" % num)"
   ]
  },
  {
   "cell_type": "code",
   "execution_count": 21,
   "metadata": {},
   "outputs": [
    {
     "name": "stdout",
     "output_type": "stream",
     "text": [
      "x= 9\n",
      "y= 99\n",
      "9和99最大公约数是9\n",
      "9和99最小公倍数是99\n"
     ]
    }
   ],
   "source": [
    "\"\"\"\n",
    "#练习2：\n",
    "\"\"\"\n",
    "x=int(input(\"x= \"))\n",
    "y=int(input(\"y= \"))\n",
    "if x>y:\n",
    "    x,y=y,x\n",
    "for factor in range(x,0,-1):\n",
    "    if x % factor==0 and y%factor==0:\n",
    "        print(\"%d和%d最大公约数是%d\" % (x,y,factor))\n",
    "        print(\"%d和%d最小公倍数是%d\" % (x,y,x*y//factor)) # Amazing\n",
    "        break      "
   ]
  },
  {
   "cell_type": "markdown",
   "metadata": {},
   "source": []
  }
 ],
 "metadata": {
  "kernelspec": {
   "display_name": "Python 3",
   "language": "python",
   "name": "python3"
  },
  "language_info": {
   "codemirror_mode": {
    "name": "ipython",
    "version": 3
   },
   "file_extension": ".py",
   "mimetype": "text/x-python",
   "name": "python",
   "nbconvert_exporter": "python",
   "pygments_lexer": "ipython3",
   "version": "3.7.3"
  }
 },
 "nbformat": 4,
 "nbformat_minor": 2
}
