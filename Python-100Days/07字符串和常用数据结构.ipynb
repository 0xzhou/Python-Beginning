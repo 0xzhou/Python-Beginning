{
 "cells": [
  {
   "cell_type": "markdown",
   "metadata": {},
   "source": [
    "使用列表"
   ]
  },
  {
   "cell_type": "code",
   "execution_count": 11,
   "metadata": {},
   "outputs": [
    {
     "name": "stdout",
     "output_type": "stream",
     "text": [
      "[1, 3, 5, 7, 100]\n",
      "['hello', 'hello', 'hello', 'hello', 'hello']\n",
      "5\n",
      "5\n",
      "[1, 3, 300, 7, 100]\n",
      "[1, 400, 3, 300, 7, 100, 200, 1000, 2000]\n",
      "9\n",
      "[1, 400, 300, 7, 100, 200, 1000, 2000]\n",
      "[1, 400, 300, 7, 100, 200, 1000]\n",
      "[400, 300, 7, 100, 200]\n",
      "[]\n"
     ]
    }
   ],
   "source": [
    "def main():\n",
    "    list1=[1,3,5,7,100]\n",
    "    print(list1)\n",
    "    list2=['hello']*5\n",
    "    print(list2)\n",
    "    \n",
    "    #计算列表长度(元素个数)\n",
    "    print(len(list1))\n",
    "    print(len(list2))\n",
    "    list1[2]=300\n",
    "    print(list1)\n",
    "    \n",
    "    #添加元素\n",
    "    list1.append(200)\n",
    "    list1.insert(1,400)#在该位置插入，原成员向后移动\n",
    "    list1+=[1000,2000]\n",
    "    print(list1)\n",
    "    print(len(list1))\n",
    "    \n",
    "    #删除元素\n",
    "    list1.remove(3) #删除具体的元素\n",
    "    print(list1)\n",
    "    list1.remove(2000)\n",
    "    print(list1)\n",
    "    \n",
    "    if 1234 in list1:\n",
    "        list1.remove(1234)\n",
    "        \n",
    "    del list1[0] #按照序号删除\n",
    "    del list1[5]\n",
    "    print(list1)\n",
    "    \n",
    "    #清空列表元素\n",
    "    list1.clear()\n",
    "    print(list1)\n",
    "    \n",
    "if __name__=='__main__':\n",
    "    main()"
   ]
  },
  {
   "cell_type": "code",
   "execution_count": null,
   "metadata": {},
   "outputs": [],
   "source": []
  }
 ],
 "metadata": {
  "kernelspec": {
   "display_name": "Python 3",
   "language": "python",
   "name": "python3"
  },
  "language_info": {
   "codemirror_mode": {
    "name": "ipython",
    "version": 3
   },
   "file_extension": ".py",
   "mimetype": "text/x-python",
   "name": "python",
   "nbconvert_exporter": "python",
   "pygments_lexer": "ipython3",
   "version": "3.7.3"
  }
 },
 "nbformat": 4,
 "nbformat_minor": 2
}
