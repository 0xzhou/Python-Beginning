{
  "nbformat": 4,
  "nbformat_minor": 0,
  "metadata": {
    "colab": {
      "name": "operations.ipynb",
      "version": "0.3.2",
      "provenance": [],
      "include_colab_link": true
    },
    "kernelspec": {
      "name": "python3",
      "display_name": "Python 3"
    }
  },
  "cells": [
    {
      "cell_type": "markdown",
      "metadata": {
        "id": "view-in-github",
        "colab_type": "text"
      },
      "source": [
        "<a href=\"https://colab.research.google.com/github/Mingy2018/Python-Beginning/blob/master/operations.ipynb\" target=\"_parent\"><img src=\"https://colab.research.google.com/assets/colab-badge.svg\" alt=\"Open In Colab\"/></a>"
      ]
    },
    {
      "cell_type": "code",
      "metadata": {
        "id": "zlcerb15p94n",
        "colab_type": "code",
        "colab": {
          "base_uri": "https://localhost:8080/",
          "height": 34
        },
        "outputId": "5c55213f-81fe-442e-d8ef-ea169af5e29a"
      },
      "source": [
        "import tensorflow as tf\n",
        "\n",
        "a=tf.constant(2)\n",
        "b=tf.constant(3)\n",
        "c=tf.add(a,b)\n",
        "\n",
        "#writer=tf.summary.FileWriter('./graphs',tf.get_default_graph())\n",
        "with tf.Session() as sess:\n",
        "  #writer=tf.summary.FileWriter('./graphs',sess.graph)\n",
        "  print(sess.run(c))\n",
        "#writer.close()\n"
      ],
      "execution_count": 5,
      "outputs": [
        {
          "output_type": "stream",
          "text": [
            "5\n"
          ],
          "name": "stdout"
        }
      ]
    },
    {
      "cell_type": "code",
      "metadata": {
        "id": "TNMUS_DPrZGD",
        "colab_type": "code",
        "colab": {
          "base_uri": "https://localhost:8080/",
          "height": 52
        },
        "outputId": "51903737-d0ee-471e-c0d4-2e16f82ce0d0"
      },
      "source": [
        "a1=tf.constant([2,2],name='a')\n",
        "b1=tf.constant([[0,1],[2,3]],name='b')\n",
        "x=tf.multiply(a1,b1,name='mul') #矩阵点乘，注意与矩阵乘法区别\n",
        "\n",
        "with tf.Session() as sess:\n",
        "  print(sess.run(x))\n"
      ],
      "execution_count": 8,
      "outputs": [
        {
          "output_type": "stream",
          "text": [
            "[[0 2]\n",
            " [4 6]]\n"
          ],
          "name": "stdout"
        }
      ]
    },
    {
      "cell_type": "code",
      "metadata": {
        "id": "bXF6Qix4x204",
        "colab_type": "code",
        "colab": {}
      },
      "source": [
        "## tf.zeros(shape, dtype=tf.float.32, name=None)\n",
        "a2=tf.zeros([2,3],tf.int32)\n",
        "## tf.fill(dims, value, name= None)\n",
        "b2=tf.fill([2,3],8)"
      ],
      "execution_count": 0,
      "outputs": []
    },
    {
      "cell_type": "code",
      "metadata": {
        "id": "HNlrBTuyyy9x",
        "colab_type": "code",
        "colab": {
          "base_uri": "https://localhost:8080/",
          "height": 34
        },
        "outputId": "03983b63-8dc1-427f-888a-48c2f120b05e"
      },
      "source": [
        "# constant as sequences:\n",
        "\n",
        "# tf.lin_space(start, stop, num, name=None)\n",
        "c1=tf.lin_space(10.0,13.0,4)\n",
        "c2=tf.lin_space(10.0,13.0,7)\n",
        "# tf.range(start, limit=None, delta=1, dtype=None, name='range')\n",
        "r1=tf.range(3,18,3)\n",
        "r2=tf.range(5)\n",
        "\n",
        "with tf.Session() as sess:\n",
        "  print(sess.run(c1),sess.run(c2),sess.run(r1),sess.run(r2))\n"
      ],
      "execution_count": 15,
      "outputs": [
        {
          "output_type": "stream",
          "text": [
            "[10. 11. 12. 13.] [10.  10.5 11.  11.5 12.  12.5 13. ] [ 3  6  9 12 15] [0 1 2 3 4]\n"
          ],
          "name": "stdout"
        }
      ]
    },
    {
      "cell_type": "code",
      "metadata": {
        "id": "-dWvw6Wf4dHC",
        "colab_type": "code",
        "colab": {}
      },
      "source": [
        "# randowmly generated constants:\n",
        "\n"
      ],
      "execution_count": 0,
      "outputs": []
    }
  ]
}