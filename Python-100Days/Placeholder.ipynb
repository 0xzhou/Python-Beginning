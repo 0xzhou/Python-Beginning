{
  "nbformat": 4,
  "nbformat_minor": 0,
  "metadata": {
    "colab": {
      "name": "Placeholder.ipynb",
      "version": "0.3.2",
      "provenance": []
    },
    "kernelspec": {
      "name": "python3",
      "display_name": "Python 3"
    }
  },
  "cells": [
    {
      "cell_type": "code",
      "metadata": {
        "id": "fIdlFTPUqQ34",
        "colab_type": "code",
        "colab": {
          "base_uri": "https://localhost:8080/",
          "height": 34
        },
        "outputId": "712f17ed-3d61-484b-901e-8de219a5842e"
      },
      "source": [
        "import tensorflow as tf\n",
        "\n",
        "input1=tf.placeholder(tf.float32)#可以规定数据结构\n",
        "input2=tf.placeholder(tf.float32)\n",
        "\n",
        "output=tf.multiply(input1,input2)\n",
        "\n",
        "with tf.Session() as sess:\n",
        "  print(sess.run(output,feed_dict={input1:[7.],input2:[2.]}))"
      ],
      "execution_count": 6,
      "outputs": [
        {
          "output_type": "stream",
          "text": [
            "[14.]\n"
          ],
          "name": "stdout"
        }
      ]
    },
    {
      "cell_type": "code",
      "metadata": {
        "id": "9HTmludpsNec",
        "colab_type": "code",
        "colab": {}
      },
      "source": [
        ""
      ],
      "execution_count": 0,
      "outputs": []
    }
  ]
}