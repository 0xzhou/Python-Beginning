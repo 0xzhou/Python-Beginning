{
  "nbformat": 4,
  "nbformat_minor": 0,
  "metadata": {
    "colab": {
      "name": "Session会话控制.ipynb",
      "version": "0.3.2",
      "provenance": [],
      "collapsed_sections": [],
      "include_colab_link": true
    },
    "kernelspec": {
      "name": "python3",
      "display_name": "Python 3"
    }
  },
  "cells": [
    {
      "cell_type": "markdown",
      "metadata": {
        "id": "view-in-github",
        "colab_type": "text"
      },
      "source": [
        "<a href=\"https://colab.research.google.com/github/Mingy2018/Python-Beginning/blob/master/Session%E4%BC%9A%E8%AF%9D%E6%8E%A7%E5%88%B6.ipynb\" target=\"_parent\"><img src=\"https://colab.research.google.com/assets/colab-badge.svg\" alt=\"Open In Colab\"/></a>"
      ]
    },
    {
      "cell_type": "code",
      "metadata": {
        "id": "GpYx_i1bueZL",
        "colab_type": "code",
        "colab": {}
      },
      "source": [
        "import tensorflow as tf\n",
        "\n",
        "matrix1=tf.constant([[3,3]])\n",
        "matrix2=tf.constant([[3],\n",
        "                     [3]])\n",
        "product=tf.matmul(matrix1,matrix2) # matrix multiply; np.dot(m1,m2)\n",
        "\n",
        "#method1:\n",
        "sess=tf.Session()\n",
        "result=sess.run(product)\n",
        "print(result)\n",
        "sess.close()\n",
        "\n",
        "#method2:\n",
        "with tf.Session() as sess: #自动关闭对话\n",
        "  result2=sess.run(product)\n",
        "  print(result2)\n",
        " \n",
        "  \n",
        " "
      ],
      "execution_count": 0,
      "outputs": []
    }
  ]
}