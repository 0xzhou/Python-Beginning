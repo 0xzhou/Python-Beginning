{
 "cells": [
  {
   "cell_type": "code",
   "execution_count": 1,
   "metadata": {},
   "outputs": [
    {
     "name": "stdout",
     "output_type": "stream",
     "text": [
      "       name region  sales  expenses\n",
      "0   William   East  50000     42000\n",
      "1      Emma  North  52000     43000\n",
      "2     Sofia   East  90000     50000\n",
      "3    Markus  South  34000     44000\n",
      "4    Edward   West  42000     38000\n",
      "5    Thomas   West  72000     39000\n",
      "6     Ethan  South  49000     42000\n",
      "7    Olivia   West  55000     60000\n",
      "8      Arun   West  67000     39000\n",
      "9     Anika   East  65000     44000\n",
      "10    Paulo  South  67000     45000\n"
     ]
    }
   ],
   "source": [
    "import pandas as pd\n",
    "sales_data=pd.DataFrame({\n",
    "    \"name\":[\"William\",\"Emma\",\"Sofia\",\"Markus\",\"Edward\",\"Thomas\",\"Ethan\",\"Olivia\",\"Arun\",\"Anika\",\"Paulo\"]\n",
    "    ,\"region\":[\"East\",\"North\",\"East\",\"South\",\"West\",\"West\",\"South\",\"West\",\"West\",\"East\",\"South\"]\n",
    "    ,\"sales\":[50000,52000,90000,34000,42000,72000,49000,55000,67000,65000,67000]\n",
    "    ,\"expenses\":[42000,43000,50000,44000,38000,39000,42000,60000,39000,44000,45000]})\n",
    "print(sales_data)"
   ]
  },
  {
   "cell_type": "markdown",
   "metadata": {},
   "source": [
    "there is an index on the far side of the DataFrame"
   ]
  },
  {
   "cell_type": "code",
   "execution_count": 2,
   "metadata": {},
   "outputs": [
    {
     "name": "stdout",
     "output_type": "stream",
     "text": [
      "RangeIndex(start=0, stop=11, step=1)\n"
     ]
    }
   ],
   "source": [
    "print(sales_data.index)"
   ]
  },
  {
   "cell_type": "code",
   "execution_count": null,
   "metadata": {},
   "outputs": [],
   "source": []
  }
 ],
 "metadata": {
  "kernelspec": {
   "display_name": "Python 3",
   "language": "python",
   "name": "python3"
  },
  "language_info": {
   "codemirror_mode": {
    "name": "ipython",
    "version": 3
   },
   "file_extension": ".py",
   "mimetype": "text/x-python",
   "name": "python",
   "nbconvert_exporter": "python",
   "pygments_lexer": "ipython3",
   "version": "3.7.3"
  }
 },
 "nbformat": 4,
 "nbformat_minor": 2
}
