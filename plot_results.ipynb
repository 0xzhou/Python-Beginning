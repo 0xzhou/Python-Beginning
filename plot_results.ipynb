{
  "nbformat": 4,
  "nbformat_minor": 0,
  "metadata": {
    "colab": {
      "name": "plot_results.ipynb",
      "version": "0.3.2",
      "provenance": [],
      "include_colab_link": true
    },
    "kernelspec": {
      "name": "python3",
      "display_name": "Python 3"
    }
  },
  "cells": [
    {
      "cell_type": "markdown",
      "metadata": {
        "id": "view-in-github",
        "colab_type": "text"
      },
      "source": [
        "<a href=\"https://colab.research.google.com/github/Mingy2018/Python-Beginning/blob/master/plot_results.ipynb\" target=\"_parent\"><img src=\"https://colab.research.google.com/assets/colab-badge.svg\" alt=\"Open In Colab\"/></a>"
      ]
    },
    {
      "cell_type": "code",
      "metadata": {
        "id": "yEO6aaacRH9u",
        "colab_type": "code",
        "colab": {}
      },
      "source": [
        "import tensorflow as tf\n",
        "import numpy as np\n",
        "import matplotlib.pyplot as plt\n",
        "\n",
        "def add_layer(inputs, in_size, out_size, activation_function=None):\n",
        "  Weights=tf.Variable(tf.random_normal([in_size,out_size]))\n",
        "  bias=tf.Variable(tf.zeros([1,out_size])+0.1)#bias不为零\n",
        "  Wx_plus_b=tf.matmul(inputs,Weights)+bias\n",
        "  if activation_function is None:\n",
        "    outputs=Wx_plus_b #linear relationship\n",
        "  else:\n",
        "    outputs=activation_function(Wx_plus_b)\n",
        "  return outputs"
      ],
      "execution_count": 0,
      "outputs": []
    },
    {
      "cell_type": "code",
      "metadata": {
        "id": "B3VDwyXoR5-Q",
        "colab_type": "code",
        "colab": {
          "base_uri": "https://localhost:8080/",
          "height": 269
        },
        "outputId": "b3635c39-c3ed-4e4e-98d7-03ee198f61f9"
      },
      "source": [
        "# import data\n",
        "\n",
        "x_data=np.linspace(-1,1,300,dtype=np.float32)[:,np.newaxis]\n",
        "noise=np.random.normal(0,0.05,x_data.shape).astype(np.float32)\n",
        "y_data=np.square(x_data)-0.5+noise\n",
        "\n",
        "xs=tf.placeholder(tf.float32,[None,1])\n",
        "ys=tf.placeholder(tf.float32,[None,1])\n",
        "# build NN\n",
        "\n",
        "l1=add_layer(xs,1,10,activation_function=tf.nn.relu)\n",
        "prediction=add_layer(l1,10,1,activation_function=None)\n",
        "loss=tf.reduce_mean(tf.reduce_sum(tf.square(ys-prediction),\n",
        "                                 reduction_indices=[1]))\n",
        "train_step=tf.train.GradientDescentOptimizer(0.1).minimize(loss)\n",
        "\n",
        "init=tf.global_variables_initializer()\n",
        "\n",
        "sess=tf.Session()\n",
        "sess.run(init)\n",
        "# visualization:\n",
        "fig=plt.figure()\n",
        "ax=fig.add_subplot(1,1,1)\n",
        "ax.scatter(x_data,y_data)\n",
        "plt.ion()\n",
        "plt.show()\n",
        "\n",
        "\n",
        "# train\n",
        "for _ in range(1000):\n",
        "  sess.run(train_step,feed_dict={xs:x_data,ys:y_data})\n",
        "  if _%50==0:\n",
        "    try:\n",
        "       ax.lines.remove(lines[0])\n",
        "    except Exception: #防止第一次报错\n",
        "      pass\n",
        "    # print(sess.run(loss,feed_dict={xs:x_data,ys:y_data}))\n",
        "    prediction_value=sess.run(prediction,feed_dict={xs:x_data})\n",
        "    lines=ax.plot(x_data,prediction_value,'r-',lw=5)\n",
        "    plt.pause(0.5)"
      ],
      "execution_count": 9,
      "outputs": [
        {
          "output_type": "display_data",
          "data": {
            "image/png": "[encoded data removed]",
            "text/plain": [
              "<Figure size 432x288 with 1 Axes>"
            ]
          },
          "metadata": {
            "tags": []
          }
        }
      ]
    },
    {
      "cell_type": "code",
      "metadata": {
        "id": "gfzgvj7KTL8d",
        "colab_type": "code",
        "colab": {}
      },
      "source": [
        ""
      ],
      "execution_count": 0,
      "outputs": []
    }
  ]
}