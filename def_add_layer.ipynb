{
  "nbformat": 4,
  "nbformat_minor": 0,
  "metadata": {
    "colab": {
      "name": "def_add_layer.ipynb",
      "version": "0.3.2",
      "provenance": []
    },
    "kernelspec": {
      "name": "python3",
      "display_name": "Python 3"
    }
  },
  "cells": [
    {
      "cell_type": "code",
      "metadata": {
        "id": "CKD0FM3iJ8wB",
        "colab_type": "code",
        "colab": {}
      },
      "source": [
        "import tensorflow as tf\n",
        "\n",
        "def add_layer(inputs, in_size, out_size, activation_function=None):\n",
        "  Weights=tf.Variable(tf.random_normal([in_size,outsize]))\n",
        "  bias=tf.Variable(tf.zeros(1,out_size)+0.1)#bias不为零\n",
        "  Wx_plus_b=tf.matmul(inputs,Weights)+bias\n",
        "  if activation_function is None:\n",
        "    outputs=Wx_plus_b #linear relationship\n",
        "  else:\n",
        "    outputs=activation_function(Wx_plus_b)\n",
        "  return outputs"
      ],
      "execution_count": 0,
      "outputs": []
    },
    {
      "cell_type": "code",
      "metadata": {
        "id": "18iexq_GKdlD",
        "colab_type": "code",
        "colab": {}
      },
      "source": [
        ""
      ],
      "execution_count": 0,
      "outputs": []
    }
  ]
}