{
 "cells": [
  {
   "cell_type": "markdown",
   "metadata": {},
   "source": [
    "sorted(iterable, keys=keys, reverse=reverse):\n",
    "@iterable: the sequence to sort, list, dictionary, tupel etc.\n",
    "@key:optional, A function to execute to dicide the order\n",
    "@Option: True-descend, False-ascending"
   ]
  }
 ],
 "metadata": {
  "kernelspec": {
   "display_name": "Python 3",
   "language": "python",
   "name": "python3"
  },
  "language_info": {
   "codemirror_mode": {
    "name": "ipython",
    "version": 3
   },
   "file_extension": ".py",
   "mimetype": "text/x-python",
   "name": "python",
   "nbconvert_exporter": "python",
   "pygments_lexer": "ipython3",
   "version": "3.7.3"
  }
 },
 "nbformat": 4,
 "nbformat_minor": 2
}
